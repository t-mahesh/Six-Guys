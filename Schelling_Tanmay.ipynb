{
 "cells": [
  {
   "cell_type": "code",
   "execution_count": 26,
   "metadata": {},
   "outputs": [],
   "source": [
    "import matplotlib.pyplot as plt\n",
    "import itertools\n",
    "import random\n",
    "import copy\n",
    "import itertools"
   ]
  },
  {
   "cell_type": "code",
   "execution_count": 55,
   "metadata": {},
   "outputs": [
    {
     "name": "stdout",
     "output_type": "stream",
     "text": [
      "[(3, 9), (2, 8), (1, 7), (2, 5), (6, 7), (5, 0), (4, 0), (8, 0), (8, 5), (8, 1), (3, 7), (7, 8), (1, 4), (2, 1), (9, 4), (1, 2), (9, 9), (7, 3), (8, 4), (1, 3), (3, 5), (0, 2), (8, 9), (2, 7), (0, 4), (4, 3), (0, 1), (7, 1), (3, 1), (3, 6), (0, 0), (4, 2), (4, 5), (3, 0), (6, 6), (8, 7), (7, 9), (2, 0), (2, 2), (7, 7), (4, 7), (9, 7), (9, 5), (4, 1), (6, 2), (9, 2), (5, 3), (2, 6), (9, 3), (5, 2)]\n"
     ]
    }
   ],
   "source": [
    "class Schelling:\n",
    "    \n",
    "    def __init__(self, width, height, empty_ratio, similarity_threshold, n_iterations, races):\n",
    "        self.width = width\n",
    "        self.height = height\n",
    "        self.empty_ratio = empty_ratio\n",
    "        self.similarity_threshold = similarity_threshold\n",
    "        self.n_interations = n_iterations\n",
    "        self.races = races\n",
    "        \n",
    "    def populate(self):\n",
    "        self.empty_houses = []\n",
    "        self.agents = {}\n",
    "        self.all_houses = list(itertools.product(range(self.width), range(self.height)))\n",
    "        random.shuffle(self.all_houses)\n",
    "        self.n_empty = int(self.empty_ratio * len(self.all_houses))\n",
    "        self.empty_houses = self.all_houses[:self.n_empty]\n",
    "        self.remaining_houses = self.all_houses[self.n_empty:]\n",
    "        print(self.remaining_houses)\n",
    "        houses_by_races = []\n",
    "        for i in range(self.races):\n",
    "            houses_by_races.append(self.remaining_houses[i::self.races])  \n",
    "            #print(houses_by_races)\n",
    "            races = [i]*len(houses_by_races[i-1])\n",
    "            self.agents = dict(zip(houses_by_races[i-1], races))\n",
    "            \n",
    "test = Schelling(10, 10, 0.5, 0.5, 1, 5)\n",
    "test.populate()\n",
    "#print(test.agents)\n",
    "        \n",
    "        "
   ]
  },
  {
   "cell_type": "code",
   "execution_count": 25,
   "metadata": {},
   "outputs": [
    {
     "name": "stdout",
     "output_type": "stream",
     "text": [
      "[ 0  2  4  6  8 10]\n"
     ]
    }
   ],
   "source": [
    "import numpy as np\n",
    "t = np.arange(11)\n",
    "print(t[0::2])"
   ]
  },
  {
   "cell_type": "code",
   "execution_count": 59,
   "metadata": {},
   "outputs": [
    {
     "name": "stdout",
     "output_type": "stream",
     "text": [
      "[[(3, 9), (5, 0)]]\n",
      "[[(3, 9), (5, 0)], [(2, 8), (4, 0)]]\n",
      "[[(3, 9), (5, 0)], [(2, 8), (4, 0)], [(1, 7), (8, 0)]]\n",
      "[[(3, 9), (5, 0)], [(2, 8), (4, 0)], [(1, 7), (8, 0)], [(2, 5)]]\n",
      "[[(3, 9), (5, 0)], [(2, 8), (4, 0)], [(1, 7), (8, 0)], [(2, 5)], [(6, 7)]]\n",
      "{(2, 5): 4}\n"
     ]
    }
   ],
   "source": [
    "    remaining = [(3, 9), (2, 8), (1, 7), (2, 5), (6, 7), (5, 0), (4, 0), (8, 0)]\n",
    "    houses_by_races = []   \n",
    "    agents = {}\n",
    "    for i in range(5):\n",
    "            houses_by_races.append(remaining[i::5])  \n",
    "            print(houses_by_races)\n",
    "            races = [i]*len(houses_by_races[i-1])\n",
    "            agents = dict(zip(houses_by_races[i-1], races))\n",
    "            \n",
    "    print(agents)"
   ]
  }
 ],
 "metadata": {
  "kernelspec": {
   "display_name": "Python 3",
   "language": "python",
   "name": "python3"
  },
  "language_info": {
   "codemirror_mode": {
    "name": "ipython",
    "version": 3
   },
   "file_extension": ".py",
   "mimetype": "text/x-python",
   "name": "python",
   "nbconvert_exporter": "python",
   "pygments_lexer": "ipython3",
   "version": "3.7.6"
  }
 },
 "nbformat": 4,
 "nbformat_minor": 4
}
